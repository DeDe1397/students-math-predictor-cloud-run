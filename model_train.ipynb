{
 "cells": [
  {
   "cell_type": "code",
   "execution_count": null,
   "id": "19cc6bd1-53de-4b8f-a193-65f7c83aca2a",
   "metadata": {
    "tags": []
   },
   "outputs": [],
   "source": [
    "!pip install lightgbm shap"
   ]
  },
  {
   "cell_type": "code",
   "execution_count": null,
   "id": "e2ead0ce-0d8a-46cc-a02d-d94c51d5c209",
   "metadata": {
    "tags": []
   },
   "outputs": [],
   "source": [
    "import pandas as pd\n",
    "from sklearn.model_selection import train_test_split\n",
    "from sklearn.linear_model import LinearRegression\n",
    "from sklearn.metrics import r2_score, mean_squared_error\n",
    "import lightgbm as lgb\n",
    "import joblib\n",
    "from google.cloud import bigquery, storage\n",
    "import shap"
   ]
  },
  {
   "cell_type": "code",
   "execution_count": null,
   "id": "bb05fac2-eea0-4453-8947-1683cd00c5c4",
   "metadata": {
    "tags": []
   },
   "outputs": [],
   "source": [
    "# --- 設定値（あなたの環境に合わせて変更） ---\n",
    "PROJECT_ID = \"PROJECT_ID\"\n",
    "BQ_TABLE_PATH = f\"{PROJECT_ID}.BQ_TABLE_PATH\"\n",
    "GCS_BUCKET_NAME = \"GCS_BUCKET_NAME\" "
   ]
  },
  {
   "cell_type": "code",
   "execution_count": null,
   "id": "526a69d6-b24a-48ef-a2ea-0e252b7ba423",
   "metadata": {
    "tags": []
   },
   "outputs": [],
   "source": [
    "# --- BigQueryからデータを読み込む ---\n",
    "client = bigquery.Client(project=PROJECT_ID)\n",
    "sql = f\"SELECT * FROM `{BQ_TABLE_PATH}`\"\n",
    "df = client.query(sql).to_dataframe()"
   ]
  },
  {
   "cell_type": "code",
   "execution_count": null,
   "id": "c4b147d1-1fb2-4e66-8bfc-73493d314667",
   "metadata": {
    "tags": []
   },
   "outputs": [],
   "source": [
    "# --- 特徴量と目的変数を定義 ---\n",
    "X = df.drop('math_score', axis=1)\n",
    "y = df['math_score']"
   ]
  },
  {
   "cell_type": "code",
   "execution_count": null,
   "id": "90022a2d-e270-4d6e-9ad7-70066b14acab",
   "metadata": {
    "tags": []
   },
   "outputs": [],
   "source": [
    "# --- データ分割 ---\n",
    "X_train, X_test, y_train, y_test = train_test_split(\n",
    "    X,\n",
    "    y,\n",
    "    test_size=0.2,\n",
    "    random_state=42\n",
    ")"
   ]
  },
  {
   "cell_type": "code",
   "execution_count": null,
   "id": "9cf28211-3537-4645-b4ee-06306d6d6f5d",
   "metadata": {
    "tags": []
   },
   "outputs": [],
   "source": [
    "# --- 前処理（One-Hot エンコーディング） ---\n",
    "categorical_cols = X_train.select_dtypes(include=['object']).columns\n",
    "X_train_encoded = pd.get_dummies(X_train, columns=categorical_cols, drop_first=True)\n",
    "X_test_encoded = pd.get_dummies(X_test, columns=categorical_cols, drop_first=True)\n",
    "final_columns = X_train_encoded.columns"
   ]
  },
  {
   "cell_type": "code",
   "execution_count": null,
   "id": "ba988328-01dd-4154-8571-22107f7855b4",
   "metadata": {
    "tags": []
   },
   "outputs": [],
   "source": [
    "final_columns\n",
    "results = {}\n",
    "models = {}"
   ]
  },
  {
   "cell_type": "code",
   "execution_count": null,
   "id": "2289ed72-f2b8-4482-87f9-851a0a9ba4a9",
   "metadata": {
    "tags": []
   },
   "outputs": [],
   "source": [
    "# --- モデル学習と評価 ---\n",
    "lr_model = LinearRegression()\n",
    "lr_model.fit(X_train_encoded, y_train)\n",
    "lr_pred = lr_model.predict(X_test_encoded)\n",
    "results[\"LinearRegression\"] = r2_score(y_test, lr_pred)\n",
    "models[\"LinearRegression\"] = lr_model\n",
    "\n",
    "lgb_model = lgb.LGBMRegressor(random_state=42)\n",
    "lgb_model.fit(X_train_encoded, y_train)\n",
    "lgb_pred = lgb_model.predict(X_test_encoded)\n",
    "results[\"LightGBM\"] = r2_score(y_test, lgb_pred)\n",
    "models[\"LightGBM\"] = lgb_model\n",
    "\n",
    "print(\"モデル比較結果:\", results)"
   ]
  },
  {
   "cell_type": "code",
   "execution_count": null,
   "id": "854d1540-4d0f-4f57-ba7f-fe7309d5de51",
   "metadata": {},
   "outputs": [],
   "source": [
    "# --- SHAP値の計算 (LightGBM用) ---\n",
    "explainer = shap.TreeExplainer(lgb_model)\n",
    "shap_values = explainer(X_test_encoded)\n",
    "shap.summary_plot(shap_values, X_test_encoded, show=False)  # 可視化"
   ]
  },
  {
   "cell_type": "code",
   "execution_count": null,
   "id": "00b38139-6274-43fc-9e22-84e6a83dc07b",
   "metadata": {},
   "outputs": [],
   "source": [
    "# --- モデルと列情報を保存 ---\n",
    "storage_client = storage.Client(project=PROJECT_ID)\n",
    "bucket = storage_client.bucket(GCS_BUCKET_NAME)\n",
    "\n",
    "for name, model in models.items():\n",
    "    joblib.dump(model, f\"{name}.pkl\")\n",
    "    blob = bucket.blob(f\"models/math_predictor/v1/{name}.pkl\")\n",
    "    blob.upload_from_filename(f\"{name}.pkl\")\n",
    "    \n",
    "joblib.dump(list(final_columns), \"feature_list.pkl\")\n",
    "blob_list = bucket.blob(f\"models/math_predictor/v1/feature_list.pkl\")\n",
    "blob_list.upload_from_filename('feature_list.pkl')\n",
    "\n",
    "print(f\"モデルと特徴量リストが GCS へアップロードされました\")"
   ]
  }
 ],
 "metadata": {
  "environment": {
   "kernel": "conda-base-py",
   "name": "workbench-notebooks.m133",
   "type": "gcloud",
   "uri": "us-docker.pkg.dev/deeplearning-platform-release/gcr.io/workbench-notebooks:m133"
  },
  "kernelspec": {
   "display_name": "Python 3 (ipykernel)",
   "language": "python",
   "name": "conda-base-py"
  },
  "language_info": {
   "codemirror_mode": {
    "name": "ipython",
    "version": 3
   },
   "file_extension": ".py",
   "mimetype": "text/x-python",
   "name": "python",
   "nbconvert_exporter": "python",
   "pygments_lexer": "ipython3",
   "version": "3.10.18"
  }
 },
 "nbformat": 4,
 "nbformat_minor": 5
}
