{
 "cells": [
  {
   "cell_type": "code",
   "execution_count": null,
   "id": "eaf8b283-9153-4f42-990f-e9b9fd570381",
   "metadata": {},
   "outputs": [],
   "source": [
    "import pandas as pd\n",
    "from sklearn.model_selection import train_test_split\n",
    "from sklearn.linear_model import LinearRegression\n",
    "from sklearn.metrics import r2_score\n",
    "from google.cloud import bigquery\n",
    "import joblib\n",
    "from google.cloud import storage"
   ]
  },
  {
   "cell_type": "code",
   "execution_count": null,
   "id": "69658d2a-7806-4a89-a26d-7b7e90a27b53",
   "metadata": {},
   "outputs": [],
   "source": [
    "#  設定値（あなたの環境に合わせて変更） \n",
    "PROJECT_ID = \"PROJECT_ID\"\n",
    "BQ_TABLE_PATH = f\"{PROJECT_ID}.DATASET_NAME.TABLE_NAME\" \n",
    "GCS_BUCKET_NAME = \"GCS_BUCKET_NAME\"\n",
    "MODEL_GCS_PATH = f\"gs://{GCS_BUCKET_NAME}/models/math_predictor/v1/\"\n",
    "MODEL_FILENAME = 'math_score_model.pkl'"
   ]
  },
  {
   "cell_type": "code",
   "execution_count": null,
   "id": "04ef450d-eba7-40a5-aa51-94ff48ee9d89",
   "metadata": {},
   "outputs": [],
   "source": [
    "#  1. BigQueryからデータを読み込む \n",
    "client = bigquery.Client(project=PROJECT_ID)\n",
    "sql = f\"SELECT * FROM `{BQ_TABLE_PATH}`\"\n",
    "df = client.query(sql).to_dataframe()"
   ]
  },
  {
   "cell_type": "code",
   "execution_count": null,
   "id": "8559dbc9-7494-4013-9eb0-83f0efbf84e9",
   "metadata": {},
   "outputs": [],
   "source": [
    "#  2. 特徴量と目的変数を定義 \n",
    "X = df.drop('math_score', axis=1)\n",
    "y = df['math_score']"
   ]
  },
  {
   "cell_type": "code",
   "execution_count": null,
   "id": "e855df34-c478-423b-bccd-c8551e3e9758",
   "metadata": {},
   "outputs": [],
   "source": [
    "#  3. データ分割 \n",
    "X_train, X_test, y_train, y_test = train_test_split(\n",
    "    X,\n",
    "    y,\n",
    "    test_size=0.2,\n",
    "    random_state=42\n",
    ")"
   ]
  },
  {
   "cell_type": "code",
   "execution_count": null,
   "id": "b7a4062b-dd67-49c2-a4db-083fde3570b0",
   "metadata": {},
   "outputs": [],
   "source": [
    "#  4. 前処理（One-Hot エンコーディング） \n",
    "categorical_cols = X_train.select_dtypes(include=['object']).columns\n",
    "X_train_encoded = pd.get_dummies(X_train, columns=categorical_cols, drop_first=True)\n",
    "X_test_encoded = pd.get_dummies(X_test, columns=categorical_cols, drop_first=True)\n",
    "\n",
    "final_columns = X_train_encoded.columns"
   ]
  },
  {
   "cell_type": "code",
   "execution_count": null,
   "id": "e0003589-2894-4811-baed-0ca0f5f0453f",
   "metadata": {},
   "outputs": [],
   "source": [
    "#  5. モデル学習と評価 \n",
    "model = LinearRegression()\n",
    "model.fit(X_train_encoded, y_train)\n",
    "\n",
    "y_pred_train = model.predict(X_train_encoded)\n",
    "y_pred_test = model.predict(X_test_encoded)\n",
    "train_r2 = r2_score(y_train,y_pred_train)\n",
    "test_r2 = r2_score(y_test, y_pred_test)\n",
    "print(f\"train_R2 スコア: {train_r2:.4f}\")\n",
    "print(f\"test_R2 スコア: {test_r2:.4f}\")"
   ]
  },
  {
   "cell_type": "code",
   "execution_count": null,
   "id": "bc8a080e-5540-4f72-9b83-45a740962607",
   "metadata": {},
   "outputs": [],
   "source": [
    "# --- 6. モデルと列情報を保存 ---\n",
    "joblib.dump(model, MODEL_FILENAME)\n",
    "feature_list = list(final_columns)\n",
    "joblib.dump(feature_list, 'feature_list.pkl')\n",
    "storage_client = storage.Client(project=PROJECT_ID)\n",
    "bucket = storage_client.bucket(GCS_BUCKET_NAME)\n",
    "blob = bucket.blob(f\"models/math_predictor/v1/{MODEL_FILENAME}\")\n",
    "blob.upload_from_filename(MODEL_FILENAME)\n",
    "blob_list = bucket.blob(f\"models/math_predictor/v1/feature_list.pkl\")\n",
    "blob_list.upload_from_filename('feature_list.pkl')\n",
    "\n",
    "print(f\"モデルと特徴量リストが GCS へアップロードされました: {MODEL_GCS_PATH}\")"
   ]
  }
 ],
 "metadata": {
  "environment": {
   "kernel": "conda-base-py",
   "name": "workbench-notebooks.m133",
   "type": "gcloud",
   "uri": "us-docker.pkg.dev/deeplearning-platform-release/gcr.io/workbench-notebooks:m133"
  },
  "kernelspec": {
   "display_name": "Python 3 (ipykernel)",
   "language": "python",
   "name": "conda-base-py"
  },
  "language_info": {
   "codemirror_mode": {
    "name": "ipython",
    "version": 3
   },
   "file_extension": ".py",
   "mimetype": "text/x-python",
   "name": "python",
   "nbconvert_exporter": "python",
   "pygments_lexer": "ipython3",
   "version": "3.10.18"
  }
 },
 "nbformat": 4,
 "nbformat_minor": 5
}
